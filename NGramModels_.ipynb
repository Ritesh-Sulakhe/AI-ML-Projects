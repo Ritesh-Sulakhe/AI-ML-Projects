{
  "nbformat": 4,
  "nbformat_minor": 0,
  "metadata": {
    "colab": {
      "provenance": []
    },
    "kernelspec": {
      "name": "python3",
      "display_name": "Python 3"
    },
    "language_info": {
      "name": "python"
    }
  },
  "cells": [
    {
      "cell_type": "code",
      "execution_count": 1,
      "metadata": {
        "colab": {
          "base_uri": "https://localhost:8080/"
        },
        "id": "PEcNx6iM5c2B",
        "outputId": "59977aad-1bb9-4e09-a66c-6444bebfcd4e"
      },
      "outputs": [
        {
          "output_type": "stream",
          "name": "stdout",
          "text": [
            "Requirement already satisfied: nltk in /usr/local/lib/python3.10/dist-packages (3.8.1)\n",
            "Requirement already satisfied: click in /usr/local/lib/python3.10/dist-packages (from nltk) (8.1.7)\n",
            "Requirement already satisfied: joblib in /usr/local/lib/python3.10/dist-packages (from nltk) (1.4.2)\n",
            "Requirement already satisfied: regex>=2021.8.3 in /usr/local/lib/python3.10/dist-packages (from nltk) (2024.5.15)\n",
            "Requirement already satisfied: tqdm in /usr/local/lib/python3.10/dist-packages (from nltk) (4.66.4)\n"
          ]
        }
      ],
      "source": [
        "!pip install nltk"
      ]
    },
    {
      "cell_type": "code",
      "source": [
        "import nltk\n",
        "nltk.download('reuters')  # Download the Reuters corpus\n",
        "nltk.download('punkt')\n",
        "\n",
        "from nltk.corpus import reuters\n",
        "import re\n",
        "from nltk.tokenize import word_tokenize\n",
        "from collections import Counter\n",
        "import matplotlib.pyplot as plt\n",
        "import seaborn as sns\n",
        "from collections import defaultdict\n",
        "\n",
        "import tkinter as tk\n",
        "from tkinter import Label, Entry, Button, Text, Scrollbar"
      ],
      "metadata": {
        "colab": {
          "base_uri": "https://localhost:8080/"
        },
        "id": "60vI_O9K5w-W",
        "outputId": "da372a36-cbf8-4eb8-90b2-d9ba610fe2a9"
      },
      "execution_count": 2,
      "outputs": [
        {
          "output_type": "stream",
          "name": "stderr",
          "text": [
            "[nltk_data] Downloading package reuters to /root/nltk_data...\n",
            "[nltk_data] Downloading package punkt to /root/nltk_data...\n",
            "[nltk_data]   Unzipping tokenizers/punkt.zip.\n"
          ]
        }
      ]
    },
    {
      "cell_type": "code",
      "source": [
        "# Access the text data\n",
        "corpus = reuters.raw()"
      ],
      "metadata": {
        "id": "UOqlWXZA54_X"
      },
      "execution_count": 3,
      "outputs": []
    },
    {
      "cell_type": "code",
      "source": [
        "class NGramLanguageModel:\n",
        "    \"\"\"\n",
        "    Class for creating an n-gram language model.\n",
        "    \"\"\"\n",
        "    def __init__(self, corpus, n=2):\n",
        "        \"\"\"\n",
        "        Initialize the n-gram language model.\n",
        "\n",
        "        Parameters:\n",
        "        - corpus (str): The text corpus to be used for training the model.\n",
        "        - n (int): The size of the n-grams.\n",
        "        \"\"\"\n",
        "        self.corpus = corpus\n",
        "        self.n = n\n",
        "        self.clean_corpus = self.preprocess_text()\n",
        "        self.tokenized_text = word_tokenize(self.clean_corpus)\n",
        "        self.vocab_size = len(set(self.tokenized_text))\n",
        "        self.ngrams = self.create_ngrams(self.tokenized_text)\n",
        "        self.ngram_freq = self.cal_ngram_freq(self.ngrams)\n",
        "\n",
        "    def preprocess_text(self):\n",
        "        \"\"\"\n",
        "        Clean and preprocess the given text.\n",
        "\n",
        "        Returns:\n",
        "        str: The preprocessed text.\n",
        "        \"\"\"\n",
        "        # remove special characters\n",
        "        text = re.sub(r'[^a-zA-Z\\s]', '', self.corpus)\n",
        "        # convert to lowercase\n",
        "        text = text.lower()\n",
        "        return text\n",
        "\n",
        "    def create_ngrams(self, tokens):\n",
        "        \"\"\"\n",
        "        Create n-grams from a list of tokens.\n",
        "\n",
        "        Parameters:\n",
        "        - tokens (list): List of tokens.\n",
        "\n",
        "        Returns:\n",
        "        list: List of n-grams.\n",
        "        \"\"\"\n",
        "        ngrams = []\n",
        "        # iterate over the range of indices to create n-grams\n",
        "        for i in range(len(tokens) - self.n + 1):\n",
        "            # extract a tuple of n tokens from the current position\n",
        "            ngram = tuple(tokens[i:i + self.n])\n",
        "            # append the n-gram to the list\n",
        "            ngrams.append(ngram)\n",
        "        return ngrams\n",
        "\n",
        "    def cal_ngram_freq(self, ngrams):\n",
        "        \"\"\"\n",
        "        Calculate the frequency of each n-gram in the dataset.\n",
        "\n",
        "        Parameters:\n",
        "        - ngrams (list): List of n-grams.\n",
        "\n",
        "        Returns:\n",
        "        Counter: A Counter object containing the frequencies of each n-gram.\n",
        "        \"\"\"\n",
        "        return Counter(ngrams)\n",
        "\n",
        "    def calculate_probability(self, word, last_ngram):\n",
        "        \"\"\"\n",
        "        Calculate the probability of a word following a given (n-1)-gram using Laplace smoothing.\n",
        "\n",
        "        Parameters:\n",
        "        - word (str): The word for which the probability is calculated.\n",
        "        - last_ngram (tuple): The (n-1)-gram preceding the word.\n",
        "\n",
        "        Returns:\n",
        "        float: The probability of the word following the given (n-1)-gram.\n",
        "        \"\"\"\n",
        "        # with laplace smoothing\n",
        "        numeratorProb = self.ngram_freq[last_ngram + (word,)] + 1\n",
        "        denominatorProb = self.ngram_freq[last_ngram] + self.vocab_size\n",
        "        return numeratorProb / denominatorProb\n",
        "\n",
        "    def predict_next_word(self, last_ngram):\n",
        "        \"\"\"\n",
        "        Predict the next word given a sequence of words based on n-gram probabilities.\n",
        "\n",
        "        Parameters:\n",
        "        - last_ngram (tuple): The (n-1)-gram preceding the next word.\n",
        "        - ngram_freq (Counter): Frequencies of n-grams in the dataset.\n",
        "\n",
        "        Returns:\n",
        "        str: The predicted next word.\n",
        "        \"\"\"\n",
        "        next_word_counts = defaultdict(int)\n",
        "        # First, check if the first (n-1) elements of the current n-gram match the provided (n-1)-gram\n",
        "        # then, create a set from the list of next words\n",
        "        for ngram in self.ngram_freq:\n",
        "            if ngram[:-1] == last_ngram:\n",
        "                next_word_counts[ngram[-1]] += self.ngram_freq[ngram]\n",
        "        next_word_counts = set([ngram[-1] for ngram in self.ngram_freq if ngram[:-1] == last_ngram])\n",
        "        # If there are no possible next words, return a default value (e.g., \"<UNKNOWN>\")\n",
        "        if not next_word_counts:\n",
        "            return \"<UNKNOWN>\"\n",
        "        probabilities = {word: self.calculate_probability(word, last_ngram) for word in next_word_counts}\n",
        "        # return word with highest probability\n",
        "        most_common_word = max(probabilities, key=probabilities.get)\n",
        "        return most_common_word\n",
        "\n",
        "\n",
        "    def generate_sentence(self, prefix, length):\n",
        "        \"\"\"\n",
        "        Generate a sentence of a specified length given a prefix of (n-1) words.\n",
        "\n",
        "        Parameters:\n",
        "        - prefix (list): The prefix of the sentence.\n",
        "        - length (int): The length of the generated sentence.\n",
        "\n",
        "        Working:\n",
        "        Suppose prefix = ['the', 'quick'], and the length of the generated sentence is 3.\n",
        "        The function will start with the prefix and iteratively predict the next word to extend the sentence.\n",
        "        It will generate the following sequence of (n-1)-grams:\n",
        "        Iteration 1: prev_ngram = tuple(['the', 'quick'])\n",
        "        Iteration 2: prev_ngram = tuple(['quick', 'predicted_word1'])\n",
        "        Iteration 3: prev_ngram = tuple(['predicted_word1', 'predicted_word2'])\n",
        "\n",
        "        Returns:\n",
        "        str: The generated sentence.\n",
        "        \"\"\"\n",
        "        generated_sentence = prefix.copy()\n",
        "        # generate the next word until the sentence reaches the desired length\n",
        "        while len(generated_sentence) < length + len(prefix):\n",
        "            # get the last (n-1) words of the generated sentence\n",
        "            prev_ngram = tuple(generated_sentence[-self.n + 1:])\n",
        "            # predict the next word\n",
        "            predicted_word = self.predict_next_word(prev_ngram)\n",
        "            # append the predicted word to the generated sentence\n",
        "            generated_sentence.append(predicted_word)\n",
        "        return ' '.join(generated_sentence[len(prefix):])\n",
        "\n",
        "\n",
        "    def get_ngrams(self):\n",
        "        \"\"\"\n",
        "        Get the n-grams in the dataset.\n",
        "\n",
        "        Returns:\n",
        "        list: List of n-grams.\n",
        "        \"\"\"\n",
        "        return self.ngrams\n",
        "\n",
        "    def get_ngram_freq(self):\n",
        "        \"\"\"\n",
        "        Get the frequencies of n-grams in the dataset.\n",
        "\n",
        "        Returns:\n",
        "        Counter: A Counter object containing the frequencies of each n-gram.\n",
        "        \"\"\"\n",
        "        return self.ngram_freq"
      ],
      "metadata": {
        "id": "GvpyI7i_5_MS"
      },
      "execution_count": 4,
      "outputs": []
    },
    {
      "cell_type": "code",
      "source": [
        "bigram_model = NGramLanguageModel(corpus, n=2)\n",
        "bigrams = bigram_model.get_ngrams()\n",
        "bigrams[:10]"
      ],
      "metadata": {
        "colab": {
          "base_uri": "https://localhost:8080/"
        },
        "id": "8LGxLvrl6Fk1",
        "outputId": "3dc2d6c1-d314-4733-844e-ef7787ef0b18"
      },
      "execution_count": 5,
      "outputs": [
        {
          "output_type": "execute_result",
          "data": {
            "text/plain": [
              "[('asian', 'exporters'),\n",
              " ('exporters', 'fear'),\n",
              " ('fear', 'damage'),\n",
              " ('damage', 'from'),\n",
              " ('from', 'usjapan'),\n",
              " ('usjapan', 'rift'),\n",
              " ('rift', 'mounting'),\n",
              " ('mounting', 'trade'),\n",
              " ('trade', 'friction'),\n",
              " ('friction', 'between')]"
            ]
          },
          "metadata": {},
          "execution_count": 5
        }
      ]
    },
    {
      "cell_type": "code",
      "source": [
        "trigram_model = NGramLanguageModel(corpus, n=3)\n",
        "trigrams = trigram_model.get_ngrams()\n",
        "trigrams[:10]"
      ],
      "metadata": {
        "colab": {
          "base_uri": "https://localhost:8080/"
        },
        "id": "1_hTSyVy6HFL",
        "outputId": "1286fc95-3a55-4aab-cb64-92f4f5138d5b"
      },
      "execution_count": 6,
      "outputs": [
        {
          "output_type": "execute_result",
          "data": {
            "text/plain": [
              "[('asian', 'exporters', 'fear'),\n",
              " ('exporters', 'fear', 'damage'),\n",
              " ('fear', 'damage', 'from'),\n",
              " ('damage', 'from', 'usjapan'),\n",
              " ('from', 'usjapan', 'rift'),\n",
              " ('usjapan', 'rift', 'mounting'),\n",
              " ('rift', 'mounting', 'trade'),\n",
              " ('mounting', 'trade', 'friction'),\n",
              " ('trade', 'friction', 'between'),\n",
              " ('friction', 'between', 'the')]"
            ]
          },
          "metadata": {},
          "execution_count": 6
        }
      ]
    },
    {
      "cell_type": "code",
      "source": [
        "# Example for bigram frequencies\n",
        "bigram_frequencies = bigram_model.get_ngram_freq()\n",
        "# Print the 10 most common bigrams\n",
        "bigram_frequencies.most_common(10)"
      ],
      "metadata": {
        "colab": {
          "base_uri": "https://localhost:8080/"
        },
        "id": "LOI_c7t76OAM",
        "outputId": "80a27e89-f983-448f-8aaf-085df3b42185"
      },
      "execution_count": 7,
      "outputs": [
        {
          "output_type": "execute_result",
          "data": {
            "text/plain": [
              "[(('in', 'the'), 7091),\n",
              " (('of', 'the'), 6908),\n",
              " (('said', 'the'), 5353),\n",
              " (('mln', 'dlrs'), 4400),\n",
              " (('said', 'it'), 4343),\n",
              " (('vs', 'mln'), 3945),\n",
              " (('mln', 'vs'), 3921),\n",
              " (('cts', 'vs'), 3311),\n",
              " (('for', 'the'), 2806),\n",
              " (('the', 'company'), 2607)]"
            ]
          },
          "metadata": {},
          "execution_count": 7
        }
      ]
    },
    {
      "cell_type": "code",
      "source": [
        "# Get the top 50 most frequent bigrams\n",
        "top_50_bigrams = dict(bigram_frequencies.most_common(50))\n",
        "\n",
        "# Extract bigram labels and frequencies\n",
        "bigram_labels = [' '.join(bigram) for bigram in top_50_bigrams.keys()]\n",
        "bigram_counts = list(top_50_bigrams.values())\n",
        "\n",
        "# Set Seaborn style\n",
        "sns.set(style=\"whitegrid\")\n",
        "\n",
        "# Plotting with Seaborn\n",
        "plt.figure(figsize=(12, 6))\n",
        "ax = sns.barplot(x=bigram_labels, y=bigram_counts, palette=\"viridis\")\n",
        "ax.set(xlabel='Bigrams', ylabel='Frequency')\n",
        "ax.set_title('Top 50 Most Frequent Bigrams')\n",
        "ax.set_xticklabels(ax.get_xticklabels(), rotation=90, fontsize=8)\n",
        "plt.tight_layout()\n",
        "plt.show()"
      ],
      "metadata": {
        "colab": {
          "base_uri": "https://localhost:8080/",
          "height": 704
        },
        "id": "7GwpMzeK6SdD",
        "outputId": "b2633a57-c62b-45d2-aa45-30ef2a89897e"
      },
      "execution_count": 8,
      "outputs": [
        {
          "output_type": "stream",
          "name": "stderr",
          "text": [
            "<ipython-input-8-ee86f37b3618>:13: FutureWarning: \n",
            "\n",
            "Passing `palette` without assigning `hue` is deprecated and will be removed in v0.14.0. Assign the `x` variable to `hue` and set `legend=False` for the same effect.\n",
            "\n",
            "  ax = sns.barplot(x=bigram_labels, y=bigram_counts, palette=\"viridis\")\n",
            "<ipython-input-8-ee86f37b3618>:16: UserWarning: FixedFormatter should only be used together with FixedLocator\n",
            "  ax.set_xticklabels(ax.get_xticklabels(), rotation=90, fontsize=8)\n"
          ]
        },
        {
          "output_type": "display_data",
          "data": {
            "text/plain": [
              "<Figure size 1200x600 with 1 Axes>"
            ],
            "image/png": "[encoded data removed]"
          },
          "metadata": {}
        }
      ]
    }
  ]
}